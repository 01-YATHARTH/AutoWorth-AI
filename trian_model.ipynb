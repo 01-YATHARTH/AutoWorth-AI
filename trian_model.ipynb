{
 "cells": [
  {
   "cell_type": "code",
   "execution_count": 19,
   "id": "294622cb",
   "metadata": {},
   "outputs": [
    {
     "name": "stdout",
     "output_type": "stream",
     "text": [
      "✅ Libraries ready\n"
     ]
    }
   ],
   "source": [
    "import pandas as pd, numpy as np, joblib, pathlib, random\n",
    "from sklearn.model_selection import train_test_split, RandomizedSearchCV\n",
    "from sklearn.compose import ColumnTransformer\n",
    "from sklearn.preprocessing import OneHotEncoder\n",
    "from sklearn.pipeline import Pipeline\n",
    "from sklearn.ensemble import HistGradientBoostingRegressor\n",
    "from sklearn.metrics import mean_absolute_error, r2_score\n",
    "print(\"✅ Libraries ready\")\n"
   ]
  },
  {
   "cell_type": "code",
   "execution_count": 20,
   "id": "f89f90d1",
   "metadata": {},
   "outputs": [
    {
     "name": "stdout",
     "output_type": "stream",
     "text": [
      "Rows: 8128\n"
     ]
    },
    {
     "data": {
      "text/html": [
       "<div>\n",
       "<style scoped>\n",
       "    .dataframe tbody tr th:only-of-type {\n",
       "        vertical-align: middle;\n",
       "    }\n",
       "\n",
       "    .dataframe tbody tr th {\n",
       "        vertical-align: top;\n",
       "    }\n",
       "\n",
       "    .dataframe thead th {\n",
       "        text-align: right;\n",
       "    }\n",
       "</style>\n",
       "<table border=\"1\" class=\"dataframe\">\n",
       "  <thead>\n",
       "    <tr style=\"text-align: right;\">\n",
       "      <th></th>\n",
       "      <th>name</th>\n",
       "      <th>year</th>\n",
       "      <th>selling_price</th>\n",
       "      <th>km_driven</th>\n",
       "      <th>fuel</th>\n",
       "      <th>seller_type</th>\n",
       "      <th>transmission</th>\n",
       "      <th>owner</th>\n",
       "    </tr>\n",
       "  </thead>\n",
       "  <tbody>\n",
       "    <tr>\n",
       "      <th>0</th>\n",
       "      <td>Maruti Swift Dzire VDI</td>\n",
       "      <td>2014</td>\n",
       "      <td>450000</td>\n",
       "      <td>145500</td>\n",
       "      <td>Diesel</td>\n",
       "      <td>Individual</td>\n",
       "      <td>Manual</td>\n",
       "      <td>First Owner</td>\n",
       "    </tr>\n",
       "    <tr>\n",
       "      <th>1</th>\n",
       "      <td>Skoda Rapid 1.5 TDI Ambition</td>\n",
       "      <td>2014</td>\n",
       "      <td>370000</td>\n",
       "      <td>120000</td>\n",
       "      <td>Diesel</td>\n",
       "      <td>Individual</td>\n",
       "      <td>Manual</td>\n",
       "      <td>Second Owner</td>\n",
       "    </tr>\n",
       "    <tr>\n",
       "      <th>2</th>\n",
       "      <td>Honda City 2017-2020 EXi</td>\n",
       "      <td>2006</td>\n",
       "      <td>158000</td>\n",
       "      <td>140000</td>\n",
       "      <td>Petrol</td>\n",
       "      <td>Individual</td>\n",
       "      <td>Manual</td>\n",
       "      <td>Third Owner</td>\n",
       "    </tr>\n",
       "    <tr>\n",
       "      <th>3</th>\n",
       "      <td>Hyundai i20 Sportz Diesel</td>\n",
       "      <td>2010</td>\n",
       "      <td>225000</td>\n",
       "      <td>127000</td>\n",
       "      <td>Diesel</td>\n",
       "      <td>Individual</td>\n",
       "      <td>Manual</td>\n",
       "      <td>First Owner</td>\n",
       "    </tr>\n",
       "    <tr>\n",
       "      <th>4</th>\n",
       "      <td>Maruti Swift VXI BSIII</td>\n",
       "      <td>2007</td>\n",
       "      <td>130000</td>\n",
       "      <td>120000</td>\n",
       "      <td>Petrol</td>\n",
       "      <td>Individual</td>\n",
       "      <td>Manual</td>\n",
       "      <td>First Owner</td>\n",
       "    </tr>\n",
       "  </tbody>\n",
       "</table>\n",
       "</div>"
      ],
      "text/plain": [
       "                           name  year  selling_price  km_driven    fuel  \\\n",
       "0        Maruti Swift Dzire VDI  2014         450000     145500  Diesel   \n",
       "1  Skoda Rapid 1.5 TDI Ambition  2014         370000     120000  Diesel   \n",
       "2      Honda City 2017-2020 EXi  2006         158000     140000  Petrol   \n",
       "3     Hyundai i20 Sportz Diesel  2010         225000     127000  Diesel   \n",
       "4        Maruti Swift VXI BSIII  2007         130000     120000  Petrol   \n",
       "\n",
       "  seller_type transmission         owner  \n",
       "0  Individual       Manual   First Owner  \n",
       "1  Individual       Manual  Second Owner  \n",
       "2  Individual       Manual   Third Owner  \n",
       "3  Individual       Manual   First Owner  \n",
       "4  Individual       Manual   First Owner  "
      ]
     },
     "execution_count": 20,
     "metadata": {},
     "output_type": "execute_result"
    }
   ],
   "source": [
    "RAW_COLS = {\n",
    "    'name'           : 'name',\n",
    "    'year'           : 'year',\n",
    "    'selling_price'  : 'selling_price',\n",
    "    'km_driven'      : 'km_driven',\n",
    "    'fuel'           : 'fuel',\n",
    "    'seller_type'    : 'seller_type',\n",
    "    'transmission'   : 'transmission',\n",
    "    'owner'          : 'owner'\n",
    "}\n",
    "\n",
    "df = pd.read_csv('Cardetails.csv')[list(RAW_COLS.values())].copy()\n",
    "print(\"Rows:\", len(df))\n",
    "df.head()\n"
   ]
  },
  {
   "cell_type": "code",
   "execution_count": 21,
   "id": "b253c48d",
   "metadata": {},
   "outputs": [],
   "source": [
    "# Brand = first word, Model = name without brand\n",
    "df['brand']  = df['name'].str.split().str[0]\n",
    "df['model']  = df.apply(lambda r: r['name'].replace(r['brand']+' ', '', 1), axis=1)\n",
    "\n",
    "# We keep only the 8 desired features + target\n",
    "keep = ['brand','model','year','km_driven','fuel',\n",
    "        'seller_type','transmission','owner','selling_price']\n",
    "df = df[keep].dropna()\n",
    "\n",
    "X = df.drop('selling_price', axis=1)\n",
    "y = df['selling_price']\n"
   ]
  },
  {
   "cell_type": "code",
   "execution_count": 22,
   "id": "7b4e75fc",
   "metadata": {},
   "outputs": [],
   "source": [
    "from sklearn.preprocessing import OneHotEncoder\n",
    "from sklearn.compose import ColumnTransformer\n",
    "from sklearn.pipeline import Pipeline\n",
    "from sklearn.ensemble import HistGradientBoostingRegressor\n",
    "\n",
    "cat_cols = ['brand','model','fuel','seller_type','transmission','owner']\n",
    "num_cols = ['year','km_driven']\n",
    "\n",
    "preprocess = ColumnTransformer(\n",
    "    transformers=[\n",
    "        ('cat', OneHotEncoder(handle_unknown='ignore', sparse_output=False), cat_cols),\n",
    "        ('num', 'passthrough', num_cols)\n",
    "    ],\n",
    "    sparse_threshold=0          # <‑‑ force dense matrix\n",
    ")\n",
    "\n",
    "hgb  = HistGradientBoostingRegressor(random_state=42)\n",
    "\n",
    "pipe = Pipeline([\n",
    "    ('prep', preprocess),\n",
    "    ('reg',  hgb)\n",
    "])\n"
   ]
  },
  {
   "cell_type": "code",
   "execution_count": null,
   "id": "daabaa7f",
   "metadata": {},
   "outputs": [],
   "source": [
    "param_grid = {\n",
    "    'reg__learning_rate':  np.linspace(0.02, 0.2, 10),\n",
    "    'reg__max_depth':      [None, 4, 6, 8],\n",
    "    'reg__l2_regularization':[0.0, 0.1, 0.5, 1.0]\n",
    "}\n",
    "search = RandomizedSearchCV(\n",
    "    pipe, param_grid, n_iter=20, scoring='neg_mean_absolute_error',\n",
    "    cv=3, random_state=42, n_jobs=-1\n",
    ").fit(X, y)\n",
    "\n",
    "print(\"Best MAE (CV):\",\n",
    "      abs(search.best_score_).round(0),\n",
    "      \"\\nBest params:\", search.best_params_)\n",
    "best_pipe = search.best_estimator_\n"
   ]
  },
  {
   "cell_type": "code",
   "execution_count": null,
   "id": "6ab2a3ad",
   "metadata": {},
   "outputs": [
    {
     "name": "stdout",
     "output_type": "stream",
     "text": [
      "MAE : ₹127,979\n",
      "R²  : 0.911\n"
     ]
    }
   ],
   "source": [
    "X_train, X_test, y_train, y_test = train_test_split(\n",
    "    X, y, test_size=0.2, random_state=42)\n",
    "best_pipe.fit(X_train, y_train)\n",
    "pred = best_pipe.predict(X_test)\n",
    "print(\"MAE : ₹{:,.0f}\".format(mean_absolute_error(y_test, pred)))\n",
    "print(\"R²  : {:.3f}\".format(r2_score(y_test, pred)))\n"
   ]
  },
  {
   "cell_type": "code",
   "execution_count": null,
   "id": "fa639e87",
   "metadata": {},
   "outputs": [
    {
     "name": "stdout",
     "output_type": "stream",
     "text": [
      "✅  Model saved to Model/car_model.pkl\n"
     ]
    }
   ],
   "source": [
    "import joblib\n",
    "from pathlib import Path\n",
    "\n",
    "# Make sure the folder exists (capital M, as in your tree)\n",
    "Path(\"Model\").mkdir(exist_ok=True)\n",
    "\n",
    "# Save the trained pipeline (best_pipe) as car_model.pkl\n",
    "joblib.dump(best_pipe, \"Model/car_model.pkl\")\n",
    "\n",
    "print(\"✅  Model saved to Model/car_model.pkl\")\n"
   ]
  }
 ],
 "metadata": {
  "kernelspec": {
   "display_name": "Python 3",
   "language": "python",
   "name": "python3"
  },
  "language_info": {
   "codemirror_mode": {
    "name": "ipython",
    "version": 3
   },
   "file_extension": ".py",
   "mimetype": "text/x-python",
   "name": "python",
   "nbconvert_exporter": "python",
   "pygments_lexer": "ipython3",
   "version": "3.12.8"
  }
 },
 "nbformat": 4,
 "nbformat_minor": 5
}
